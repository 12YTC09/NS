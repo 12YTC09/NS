{
 "cells": [
  {
   "cell_type": "code",
   "execution_count": 28,
   "metadata": {},
   "outputs": [
    {
     "data": {
      "image/png": "[encoded data removed]",
      "text/latex": [
       "$\\displaystyle e^{- \\left(- 4 t + x\\right)^{2}}$"
      ],
      "text/plain": [
       "            2\n",
       " -(-4⋅t + x) \n",
       "ℯ            "
      ]
     },
     "execution_count": 28,
     "metadata": {},
     "output_type": "execute_result"
    }
   ],
   "source": [
    "#Burgers' eq\n",
    "\n",
    "\n",
    "\n",
    "import numpy\n",
    "import sympy\n",
    "\n",
    "from sympy import init_printing\n",
    "init_printing(use_latex=True)\n",
    "\n",
    "\n",
    "x,nu,t = sympy.symbols('x nu t')\n",
    "#phi = nu*x\n",
    "phi= (sympy.exp(-(x-4*t)**2))   #/(4*nu(t+1))))\n",
    "#      sympy.exp(-(x-4*t-2*sympy.pi)**2/(4*nu*(t+1))))\n",
    "#phi\n",
    "\n",
    "phi\n",
    "\n",
    "\n"
   ]
  },
  {
   "cell_type": "code",
   "execution_count": 3,
   "metadata": {},
   "outputs": [
    {
     "data": {
      "text/plain": [
       "True"
      ]
     },
     "execution_count": 3,
     "metadata": {},
     "output_type": "execute_result"
    }
   ],
   "source": [
    "import webbrowser\n",
    "webbrowser.open(\"https://en.wikipedia.org/wiki/Burgers'_equation\")"
   ]
  }
 ],
 "metadata": {
  "kernelspec": {
   "display_name": "Python 3",
   "language": "python",
   "name": "python3"
  },
  "language_info": {
   "codemirror_mode": {
    "name": "ipython",
    "version": 3
   },
   "file_extension": ".py",
   "mimetype": "text/x-python",
   "name": "python",
   "nbconvert_exporter": "python",
   "pygments_lexer": "ipython3",
   "version": "3.6.10"
  }
 },
 "nbformat": 4,
 "nbformat_minor": 4
}
