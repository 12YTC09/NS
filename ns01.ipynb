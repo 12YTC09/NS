{
 "cells": [
  {
   "cell_type": "code",
   "execution_count": 17,
   "metadata": {},
   "outputs": [
    {
     "name": "stdout",
     "output_type": "stream",
     "text": [
      "21\n",
      "[1. 1. 1. 1. 1. 1. 1. 1. 1. 1. 2. 2. 2. 2. 2. 2. 2. 2. 2. 2. 2. 1. 1. 1.\n",
      " 1. 1. 1. 1. 1. 1. 1. 1. 1. 1. 1. 1. 1. 1. 1. 1. 1.]\n"
     ]
    },
    {
     "data": {
      "text/plain": [
       "[<matplotlib.lines.Line2D at 0x7f0007d087b8>]"
      ]
     },
     "execution_count": 17,
     "metadata": {},
     "output_type": "execute_result"
    },
    {
     "data": {
      "image/png": "[encoded data removed]",
      "text/plain": [
       "<Figure size 432x288 with 1 Axes>"
      ]
     },
     "metadata": {
      "needs_background": "light"
     },
     "output_type": "display_data"
    }
   ],
   "source": [
    "#Remmber : comments in python are denoted by the pound sign\n",
    "\n",
    "\n",
    "import numpy                      #here we load numpy  \n",
    "from matplotlib import pyplot    #here we load matplotlib\n",
    "import time,sys                   #and load some utilities\n",
    "\n",
    "#this makes matplotlib plots appear in the notebook(instead of a separate window)\n",
    "%matplotlib inline\n",
    "\n",
    "nx =41   # number of grid\n",
    "\n",
    "dx = 2/(nx-1)  #be the distance between any pair of adjacent grid points\n",
    "nt = 25        #dt isthe number of timesteps we cwant to calculate      \n",
    "dt = 0.025    #delta t\n",
    "c = 1         #assum wavespeed of c =1\n",
    "\n",
    "\n",
    "u = numpy.ones(nx)      #numpy function ones()\n",
    "\n",
    "\n",
    "print(int(1/dx+1))\n",
    "\n",
    "#setting  u = 2 between 0.5 and 1 as per our I.C.s\n",
    "u[int(0.5/dx):int(1/dx+1)] = 2\n",
    "print(u)\n",
    "\n",
    "\n",
    "pyplot.plot(numpy.linspace(0,2,nx),u)\n",
    "\n",
    "\n",
    "\n",
    "un = numpy.ones(nx)   #initialize a temporary array\n",
    "\n",
    "for n in range(nt): #loop for values of n form 0 to nt,so it will run nt times\n",
    "    un = u.copy()  #copy the exising values of u into un \n",
    "    for i in range(1,nx):\n",
    "        u[i] = un[i] - c * dt/dx*(un[i]-un[i-1])\n",
    "        \n",
    "        \n",
    "pyplot.plot(numpy.linspace(0,2,nx),u)\n",
    "        \n",
    "\n",
    "\n",
    "\n",
    "\n",
    "\n",
    "\n"
   ]
  },
  {
   "cell_type": "code",
   "execution_count": 13,
   "metadata": {},
   "outputs": [
    {
     "name": "stdout",
     "output_type": "stream",
     "text": [
      "0\n",
      "1\n",
      "2\n",
      "3\n",
      "4\n",
      "5\n",
      "6\n",
      "7\n",
      "8\n",
      "9\n"
     ]
    }
   ],
   "source": []
  }
 ],
 "metadata": {
  "kernelspec": {
   "display_name": "Python 3",
   "language": "python",
   "name": "python3"
  },
  "language_info": {
   "codemirror_mode": {
    "name": "ipython",
    "version": 3
   },
   "file_extension": ".py",
   "mimetype": "text/x-python",
   "name": "python",
   "nbconvert_exporter": "python",
   "pygments_lexer": "ipython3",
   "version": "3.6.10"
  }
 },
 "nbformat": 4,
 "nbformat_minor": 4
}
