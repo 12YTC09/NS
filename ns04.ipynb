{
 "cells": [
  {
   "cell_type": "code",
   "execution_count": 9,
   "metadata": {},
   "outputs": [
    {
     "name": "stdout",
     "output_type": "stream",
     "text": [
      "[1. 1. 1. 1. 1. 1. 1. 1. 1. 1. 1. 1. 1. 1. 1. 1. 1. 1. 1. 1. 1. 1. 1. 1.\n",
      " 1. 1. 1. 1. 1. 1. 1. 1. 1. 1. 1. 1. 1. 1. 1. 1. 1.]\n",
      "[1. 1. 1. 1. 1. 1. 1. 1. 1. 1. 2. 2. 2. 2. 2. 2. 2. 2. 2. 2. 2. 1. 1. 1.\n",
      " 1. 1. 1. 1. 1. 1. 1. 1. 1. 1. 1. 1. 1. 1. 1. 1. 1.]\n"
     ]
    },
    {
     "data": {
      "text/plain": [
       "[<matplotlib.lines.Line2D at 0x7f51425ee860>]"
      ]
     },
     "execution_count": 9,
     "metadata": {},
     "output_type": "execute_result"
    },
    {
     "data": {
      "image/png": "[encoded data removed]",
      "text/plain": [
       "<Figure size 432x288 with 1 Axes>"
      ]
     },
     "metadata": {
      "needs_background": "light"
     },
     "output_type": "display_data"
    }
   ],
   "source": [
    "import numpy\n",
    "from matplotlib import pyplot\n",
    "\n",
    "%matplotlib inline\n",
    "\n",
    "nx = 41\n",
    "dx = 2/(nx-1)\n",
    "nt = 20         #the number of timestep we want to calculate\n",
    "nu = 0.3        #the value of viscosity \n",
    "\n",
    "sigma = .2      #sigma is a parameter\n",
    "\n",
    "#CFL: sigma :u*dt/dx\n",
    "#dt : sigma/u * dx\n",
    "\n",
    "\n",
    "dt  =  sigma * dx**2 /nu  #dt is defined using sigma \n",
    "\n",
    "u = numpy.ones(nx)   # a numpy array with nx elements all equal to 1\n",
    "print(u)\n",
    "u[int(.5/dx):int(1/dx+1)] = 2  #setting u =2 between 0.5 and 1 as per our I.C.s\n",
    "print(u)\n",
    "\n",
    "un = numpy.ones(nx)#our placeholder array, un,to advance the solution int time\n",
    "\n",
    "for n in range(nt):  #iterate through time\n",
    "    un = u.copy()  ##copy the existing values of u into un\n",
    "    for i in range(1,nx-1):\n",
    "        u[i] = un[i] + nu *dt /dx**2 * (un[i+1]-2*un[i]+un[i-1])\n",
    "\n",
    "pyplot.plot(numpy.linspace(0,2,nx),u)\n",
    "        \n",
    "        \n",
    "\n"
   ]
  },
  {
   "cell_type": "code",
   "execution_count": null,
   "metadata": {},
   "outputs": [],
   "source": [
    "from IPython.display import YouTubeVideo\n",
    "YouTubeVideo('y2WaK7_iMRI')"
   ]
  }
 ],
 "metadata": {
  "kernelspec": {
   "display_name": "Python 3",
   "language": "python",
   "name": "python3"
  },
  "language_info": {
   "codemirror_mode": {
    "name": "ipython",
    "version": 3
   },
   "file_extension": ".py",
   "mimetype": "text/x-python",
   "name": "python",
   "nbconvert_exporter": "python",
   "pygments_lexer": "ipython3",
   "version": "3.6.10"
  }
 },
 "nbformat": 4,
 "nbformat_minor": 4
}
