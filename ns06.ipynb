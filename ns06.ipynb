{
 "cells": [
  {
   "cell_type": "code",
   "execution_count": 1,
   "metadata": {},
   "outputs": [
    {
     "name": "stdout",
     "output_type": "stream",
     "text": [
      "1\n",
      "1\n",
      "1\n",
      "1\n",
      "1\n",
      "[1 2 3 4 5]\n",
      "[0 1 2 3 4]\n"
     ]
    },
    {
     "data": {
      "text/plain": [
       "array([1, 1, 1, 1, 1])"
      ]
     },
     "execution_count": 1,
     "metadata": {},
     "output_type": "execute_result"
    }
   ],
   "source": [
    "#Array operations with Numpy\n",
    "\n",
    "import numpy \n",
    "\n",
    "u = numpy.array((0,1,2,3,4,5))\n",
    "\n",
    "for i in range(1,len(u)):\n",
    "    print(u[i]-u[i-1])\n",
    "    \n",
    "print(u[1:])\n",
    "\n",
    "print(u[0:-1])\n",
    "\n",
    "u[1:] - u[0:-1]"
   ]
  },
  {
   "cell_type": "raw",
   "metadata": {},
   "source": [
    "%%timeit\n",
    "import numpy\n",
    "nx = 81 \n",
    "ny = 81\n",
    "nt = 100\n",
    "c= 1\n",
    "\n",
    "dx = 2/ (nx-1)\n",
    "dy = 2/ (ny-1)\n",
    "\n",
    "sigma = .2\n",
    "\n",
    "dt = sigma *dx \n",
    "\n",
    "x = numpy.linspace(0,2,nx)\n",
    "y = numpy.linspace(0,2,ny)\n",
    "\n",
    "\n",
    "#print('x:',x)\n",
    "#print('y:',y)\n",
    "\n",
    "u = numpy.ones((ny,nx))    ##create a 1xn vector of 1's\n",
    "un = numpy.ones((ny,nx))\n",
    "\n",
    "\n",
    "#print(u)\n",
    "#print(un)\n",
    "\n",
    "##Assign initial conditions\n",
    "\n",
    "u[int(.5/dy):int(1/dy+1),int(.5/dx):int(1/dx+1)]=2\n",
    "\n",
    "\n",
    "      \n"
   ]
  },
  {
   "cell_type": "code",
   "execution_count": 6,
   "metadata": {},
   "outputs": [
    {
     "name": "stdout",
     "output_type": "stream",
     "text": [
      "1.92 s ± 35.8 ms per loop (mean ± std. dev. of 7 runs, 1 loop each)\n"
     ]
    }
   ],
   "source": [
    "%%timeit\n",
    "import numpy\n",
    "\n",
    "nx = 81 \n",
    "ny = 81\n",
    "nt = 100\n",
    "c= 1\n",
    "\n",
    "dx = 2/ (nx-1)\n",
    "dy = 2/ (ny-1)\n",
    "\n",
    "sigma = .2\n",
    "\n",
    "dt = sigma *dx \n",
    "\n",
    "x = numpy.linspace(0,2,nx)\n",
    "y = numpy.linspace(0,2,ny)\n",
    "\n",
    "u = numpy.ones((ny,nx))\n",
    "u[int(.5/dy):int(1/dy+1),int(.5/dx):int(1/dx+1)]=2\n",
    "\n",
    "a_list = []\n",
    "    \n",
    "for n in range(nt+1): ##loopacross number of time steps\n",
    "    un = u.copy()\n",
    "    row,col = u.shape\n",
    "    for j in range(1,row):\n",
    "        for i in range(1,col):\n",
    "            u[j,i] = (un[j,i] - (c*dt/dx*(un[j,i]-un[j,i-1]))\n",
    "                      -(c*dt/dy*(un[j,i]-un[j-1,i])))\n",
    "            u[0,:]  = 1\n",
    "            u[-1,:] = 1\n",
    "            u[:,0]  = 1\n",
    "            u[:,-1] = 1\n",
    "\n"
   ]
  },
  {
   "cell_type": "code",
   "execution_count": 38,
   "metadata": {},
   "outputs": [
    {
     "name": "stdout",
     "output_type": "stream",
     "text": [
      "3.5 ms ± 67.6 µs per loop (mean ± std. dev. of 7 runs, 100 loops each)\n"
     ]
    }
   ],
   "source": [
    "%%timeit\n",
    "import numpy\n",
    "\n",
    "nx = 81 \n",
    "ny = 81\n",
    "nt = 100\n",
    "c= 1\n",
    "\n",
    "dx = 2/ (nx-1)\n",
    "dy = 2/ (ny-1)\n",
    "\n",
    "sigma = .2\n",
    "\n",
    "dt = sigma *dx \n",
    "\n",
    "x = numpy.linspace(0,2,nx)\n",
    "y = numpy.linspace(0,2,ny)\n",
    "\n",
    "u = numpy.ones((ny,nx))\n",
    "\n",
    "u[int(.5/dy):int(1/dy+1),int(.5/dx):int(1/dx+1)] =2\n",
    "\n",
    "\n",
    "for n in range(nt+1):   #loop across number of time steps\n",
    "    un = u.copy()\n",
    "    u[1:,1:] = (un[1:,1:] - (c*dt/dx*(un[1:,1:]-un[1:,0:-1]))-\n",
    "                            (c*dt/dy*(un[1:,1:]-un[0:-1,1:])))\n",
    "    u[0,:] = 1\n",
    "    u[-1,:] = 1\n",
    "    u[:,0] = 1\n",
    "    u[:,-1] = 1\n",
    "    \n"
   ]
  },
  {
   "cell_type": "code",
   "execution_count": 25,
   "metadata": {},
   "outputs": [
    {
     "data": {
      "text/plain": [
       "[0, 1, 2, 3, 4, 5, 6, 7, 8]"
      ]
     },
     "execution_count": 25,
     "metadata": {},
     "output_type": "execute_result"
    }
   ],
   "source": [
    "a = list(range(10))\n",
    "\n",
    "a[0:-1]\n"
   ]
  }
 ],
 "metadata": {
  "kernelspec": {
   "display_name": "Python 3",
   "language": "python",
   "name": "python3"
  },
  "language_info": {
   "codemirror_mode": {
    "name": "ipython",
    "version": 3
   },
   "file_extension": ".py",
   "mimetype": "text/x-python",
   "name": "python",
   "nbconvert_exporter": "python",
   "pygments_lexer": "ipython3",
   "version": "3.6.10"
  }
 },
 "nbformat": 4,
 "nbformat_minor": 4
}
