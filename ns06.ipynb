{
 "cells": [
  {
   "cell_type": "code",
   "execution_count": 1,
   "metadata": {},
   "outputs": [
    {
     "name": "stdout",
     "output_type": "stream",
     "text": [
      "1\n",
      "1\n",
      "1\n",
      "1\n",
      "1\n",
      "[1 2 3 4 5]\n",
      "[0 1 2 3 4]\n"
     ]
    },
    {
     "data": {
      "text/plain": [
       "array([1, 1, 1, 1, 1])"
      ]
     },
     "execution_count": 1,
     "metadata": {},
     "output_type": "execute_result"
    }
   ],
   "source": [
    "#Array operations with Numpy\n",
    "\n",
    "import numpy \n",
    "\n",
    "u = numpy.array((0,1,2,3,4,5))\n",
    "\n",
    "for i in range(1,len(u)):\n",
    "    print(u[i]-u[i-1])\n",
    "    \n",
    "print(u[1:])\n",
    "\n",
    "print(u[0:-1])\n",
    "\n",
    "u[1:] - u[0:-1]"
   ]
  },
  {
   "cell_type": "code",
   "execution_count": 5,
   "metadata": {},
   "outputs": [
    {
     "ename": "SyntaxError",
     "evalue": "invalid syntax (<ipython-input-5-910685ecd5ce>, line 31)",
     "output_type": "error",
     "traceback": [
      "\u001b[0;36m  File \u001b[0;32m\"<ipython-input-5-910685ecd5ce>\"\u001b[0;36m, line \u001b[0;32m31\u001b[0m\n\u001b[0;31m    numpy,ones((0:1,0:1))\u001b[0m\n\u001b[0m                 ^\u001b[0m\n\u001b[0;31mSyntaxError\u001b[0m\u001b[0;31m:\u001b[0m invalid syntax\n"
     ]
    }
   ],
   "source": [
    "\n",
    "import numpy\n",
    "nx = 81 \n",
    "ny = 81\n",
    "nt = 100\n",
    "c= 1\n",
    "\n",
    "dx = 2/ (nx-1)\n",
    "dy = 2/ (ny-1)\n",
    "\n",
    "sigma = .2\n",
    "\n",
    "dt = sigma *dx \n",
    "\n",
    "x = numpy.linspace(0,2,nx)\n",
    "y = numpy.linspace(0,2,ny)\n",
    "\n",
    "print('x:',x)\n",
    "print('y:',y)\n",
    "\n",
    "u = numpy.ones((ny,nx))    ##create a 1xn vector of 1's\n",
    "un = numpy.ones((ny,nx))\n",
    "\n",
    "\n",
    "print(u)\n",
    "print(un)\n",
    "\n",
    "##Assign initial conditions\n",
    "\n",
    "u[int(.5/dy):int(1/dy+1),int(.5/dx):int(1/dx+1)]=2\n",
    "\n",
    "numpy,ones((0:1,0:1))\n"
   ]
  }
 ],
 "metadata": {
  "kernelspec": {
   "display_name": "Python 3",
   "language": "python",
   "name": "python3"
  },
  "language_info": {
   "codemirror_mode": {
    "name": "ipython",
    "version": 3
   },
   "file_extension": ".py",
   "mimetype": "text/x-python",
   "name": "python",
   "nbconvert_exporter": "python",
   "pygments_lexer": "ipython3",
   "version": "3.6.10"
  }
 },
 "nbformat": 4,
 "nbformat_minor": 4
}
